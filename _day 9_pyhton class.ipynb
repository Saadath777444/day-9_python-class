{
 "cells": [
  {
   "cell_type": "code",
   "execution_count": null,
   "id": "ee7dc15b",
   "metadata": {},
   "outputs": [],
   "source": [
    "Introduction to If else satatements:"
   ]
  },
  {
   "cell_type": "code",
   "execution_count": 1,
   "id": "b651f7f8",
   "metadata": {},
   "outputs": [],
   "source": [
    "cars = ['audi','suzuki','toyota','kia','bmw']"
   ]
  },
  {
   "cell_type": "code",
   "execution_count": 2,
   "id": "693c8c34",
   "metadata": {},
   "outputs": [
    {
     "name": "stdout",
     "output_type": "stream",
     "text": [
      "['audi', 'suzuki', 'toyota', 'kia', 'bmw']\n"
     ]
    }
   ],
   "source": [
    "print(cars)"
   ]
  },
  {
   "cell_type": "code",
   "execution_count": null,
   "id": "120b0ab8",
   "metadata": {},
   "outputs": [],
   "source": []
  },
  {
   "cell_type": "code",
   "execution_count": null,
   "id": "2b8816e1",
   "metadata": {},
   "outputs": [],
   "source": [
    "#conditional statements....>if else"
   ]
  },
  {
   "cell_type": "code",
   "execution_count": null,
   "id": "5ee63ac2",
   "metadata": {},
   "outputs": [],
   "source": [
    "# i want to print the list of cars in a title case except i want to print bmw in upper case:"
   ]
  },
  {
   "cell_type": "code",
   "execution_count": 4,
   "id": "6b30ace7",
   "metadata": {},
   "outputs": [
    {
     "name": "stdout",
     "output_type": "stream",
     "text": [
      "Audi\n",
      "Suzuki\n",
      "Toyota\n",
      "Kia\n",
      "BMW\n"
     ]
    }
   ],
   "source": [
    "for x in cars:\n",
    "    if x == 'bmw':\n",
    "        print(x.upper())\n",
    "    else:\n",
    "        print(x.title())"
   ]
  },
  {
   "cell_type": "code",
   "execution_count": null,
   "id": "e2602415",
   "metadata": {},
   "outputs": [],
   "source": [
    "understanding the concept of user input :"
   ]
  },
  {
   "cell_type": "code",
   "execution_count": 5,
   "id": "76bf0ff1",
   "metadata": {},
   "outputs": [
    {
     "name": "stdout",
     "output_type": "stream",
     "text": [
      "tell me something and i will repeat it back to you:  hello good eve\n",
      "hello good eve\n"
     ]
    }
   ],
   "source": [
    "message = input(\"tell me something and i will repeat it back to you:  \")\n",
    "print(message)"
   ]
  },
  {
   "cell_type": "code",
   "execution_count": null,
   "id": "caeb23af",
   "metadata": {},
   "outputs": [],
   "source": []
  },
  {
   "cell_type": "code",
   "execution_count": 7,
   "id": "ddb64617",
   "metadata": {},
   "outputs": [
    {
     "name": "stdout",
     "output_type": "stream",
     "text": [
      "please enter your name: Saadath\n",
      "\n",
      "Hello, Saadath\n"
     ]
    }
   ],
   "source": [
    "name = input(\"please enter your name: \")\n",
    "print(f\"\\nHello, {name}\")\n"
   ]
  },
  {
   "cell_type": "code",
   "execution_count": null,
   "id": "8183c977",
   "metadata": {},
   "outputs": [],
   "source": []
  },
  {
   "cell_type": "code",
   "execution_count": 11,
   "id": "a2749081",
   "metadata": {},
   "outputs": [],
   "source": [
    "prompt = \"if you tell me who you are,we can personalise the message for you to see\"\n",
    "prompt += \"\\n what is your first name\""
   ]
  },
  {
   "cell_type": "code",
   "execution_count": 12,
   "id": "171a7852",
   "metadata": {},
   "outputs": [
    {
     "name": "stdout",
     "output_type": "stream",
     "text": [
      "if you tell me who you are,we can personalise the message for you to see\n",
      " what is your first nameSaadath\n",
      "\n",
      "Hello ,Saadath\n"
     ]
    }
   ],
   "source": [
    "name = input(prompt)\n",
    "print(f\"\\nHello ,{name}\")"
   ]
  },
  {
   "cell_type": "code",
   "execution_count": null,
   "id": "f5566ea8",
   "metadata": {},
   "outputs": [],
   "source": [
    "note : input method always accepts the input in  the form of string by default **"
   ]
  },
  {
   "cell_type": "code",
   "execution_count": null,
   "id": "41d25c5c",
   "metadata": {},
   "outputs": [],
   "source": []
  },
  {
   "cell_type": "code",
   "execution_count": 17,
   "id": "9b8a5f73",
   "metadata": {},
   "outputs": [
    {
     "name": "stdout",
     "output_type": "stream",
     "text": [
      "How old are you   ?21\n"
     ]
    }
   ],
   "source": [
    "age = input(\"How old are you   ?\")"
   ]
  },
  {
   "cell_type": "code",
   "execution_count": 18,
   "id": "329f9649",
   "metadata": {},
   "outputs": [
    {
     "ename": "TypeError",
     "evalue": "'>' not supported between instances of 'str' and 'int'",
     "output_type": "error",
     "traceback": [
      "\u001b[1;31m---------------------------------------------------------------------------\u001b[0m",
      "\u001b[1;31mTypeError\u001b[0m                                 Traceback (most recent call last)",
      "\u001b[1;32m<ipython-input-18-f249b2a2421b>\u001b[0m in \u001b[0;36m<module>\u001b[1;34m\u001b[0m\n\u001b[1;32m----> 1\u001b[1;33m \u001b[0mage\u001b[0m \u001b[1;33m>\u001b[0m \u001b[1;36m18\u001b[0m\u001b[1;33m\u001b[0m\u001b[1;33m\u001b[0m\u001b[0m\n\u001b[0m",
      "\u001b[1;31mTypeError\u001b[0m: '>' not supported between instances of 'str' and 'int'"
     ]
    }
   ],
   "source": [
    "age > 18"
   ]
  },
  {
   "cell_type": "code",
   "execution_count": 19,
   "id": "a63f3e19",
   "metadata": {},
   "outputs": [
    {
     "data": {
      "text/plain": [
       "str"
      ]
     },
     "execution_count": 19,
     "metadata": {},
     "output_type": "execute_result"
    }
   ],
   "source": [
    "type(age)"
   ]
  },
  {
   "cell_type": "code",
   "execution_count": 21,
   "id": "274b354a",
   "metadata": {},
   "outputs": [],
   "source": [
    "age = int(age)   #type casting of datatype"
   ]
  },
  {
   "cell_type": "code",
   "execution_count": 22,
   "id": "3de678f2",
   "metadata": {},
   "outputs": [
    {
     "data": {
      "text/plain": [
       "int"
      ]
     },
     "execution_count": 22,
     "metadata": {},
     "output_type": "execute_result"
    }
   ],
   "source": [
    "type(age)"
   ]
  },
  {
   "cell_type": "code",
   "execution_count": 23,
   "id": "8e99cc4b",
   "metadata": {},
   "outputs": [
    {
     "data": {
      "text/plain": [
       "True"
      ]
     },
     "execution_count": 23,
     "metadata": {},
     "output_type": "execute_result"
    }
   ],
   "source": [
    "age > 18"
   ]
  },
  {
   "cell_type": "code",
   "execution_count": null,
   "id": "f062e4d0",
   "metadata": {},
   "outputs": [],
   "source": []
  },
  {
   "cell_type": "code",
   "execution_count": null,
   "id": "38975e8e",
   "metadata": {},
   "outputs": [],
   "source": [
    "# building a simple voting application :"
   ]
  },
  {
   "cell_type": "code",
   "execution_count": 24,
   "id": "08f39ef8",
   "metadata": {},
   "outputs": [
    {
     "name": "stdout",
     "output_type": "stream",
     "text": [
      "how old are you ?  21\n",
      " you are eligible to vote\n"
     ]
    }
   ],
   "source": [
    "age = input(\"how old are you ?  \")\n",
    "age = int(age)\n",
    "if age >= 18:\n",
    "    print(\" you are eligible to vote\")\n",
    "else:\n",
    "    print(\" you are not eligible to vote , try next year\")"
   ]
  },
  {
   "cell_type": "code",
   "execution_count": null,
   "id": "d9c4574e",
   "metadata": {},
   "outputs": [],
   "source": []
  },
  {
   "cell_type": "code",
   "execution_count": null,
   "id": "151bc201",
   "metadata": {},
   "outputs": [],
   "source": [
    "understanding the module operator : %"
   ]
  },
  {
   "cell_type": "code",
   "execution_count": null,
   "id": "91895a94",
   "metadata": {},
   "outputs": [],
   "source": []
  },
  {
   "cell_type": "code",
   "execution_count": 25,
   "id": "013e0419",
   "metadata": {},
   "outputs": [
    {
     "data": {
      "text/plain": [
       "2"
      ]
     },
     "execution_count": 25,
     "metadata": {},
     "output_type": "execute_result"
    }
   ],
   "source": [
    "5%3\n"
   ]
  },
  {
   "cell_type": "code",
   "execution_count": 26,
   "id": "21a5ac1a",
   "metadata": {},
   "outputs": [
    {
     "data": {
      "text/plain": [
       "1"
      ]
     },
     "execution_count": 26,
     "metadata": {},
     "output_type": "execute_result"
    }
   ],
   "source": [
    "7%3"
   ]
  },
  {
   "cell_type": "code",
   "execution_count": null,
   "id": "78393773",
   "metadata": {},
   "outputs": [],
   "source": [
    "#req : finding the given number  even or odd....!"
   ]
  },
  {
   "cell_type": "code",
   "execution_count": 31,
   "id": "81a35a43",
   "metadata": {},
   "outputs": [
    {
     "name": "stdout",
     "output_type": "stream",
     "text": [
      "enter a number, i will tell you its even or odd!26\n",
      "\n",
      "The number 26 is even\n"
     ]
    }
   ],
   "source": [
    "number = input(\"enter a number, i will tell you its even or odd!\")\n",
    "number = int(number)\n",
    "\n",
    "if number %2 == 0:\n",
    "    print(f\"\\nThe number {number} is even\")\n",
    "else:\n",
    "    print(f\"\\nThe number {number} is odd\")"
   ]
  },
  {
   "cell_type": "code",
   "execution_count": null,
   "id": "be94ea92",
   "metadata": {},
   "outputs": [],
   "source": []
  },
  {
   "cell_type": "code",
   "execution_count": null,
   "id": "140ae1b6",
   "metadata": {},
   "outputs": [],
   "source": []
  },
  {
   "cell_type": "code",
   "execution_count": null,
   "id": "2c3016f4",
   "metadata": {},
   "outputs": [],
   "source": []
  },
  {
   "cell_type": "code",
   "execution_count": null,
   "id": "1b0a61e3",
   "metadata": {},
   "outputs": [],
   "source": []
  }
 ],
 "metadata": {
  "kernelspec": {
   "display_name": "Python 3",
   "language": "python",
   "name": "python3"
  },
  "language_info": {
   "codemirror_mode": {
    "name": "ipython",
    "version": 3
   },
   "file_extension": ".py",
   "mimetype": "text/x-python",
   "name": "python",
   "nbconvert_exporter": "python",
   "pygments_lexer": "ipython3",
   "version": "3.8.8"
  }
 },
 "nbformat": 4,
 "nbformat_minor": 5
}
